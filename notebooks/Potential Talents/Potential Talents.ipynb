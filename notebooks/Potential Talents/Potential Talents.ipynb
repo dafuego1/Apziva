{
 "cells": [
  {
   "cell_type": "markdown",
   "metadata": {},
   "source": [
    "##### **Background:**\n",
    "\n",
    "As a talent sourcing and management company, we are interested in finding talented individuals for sourcing these candidates to technology companies. Finding talented candidates is not easy, for several reasons. The first reason is one needs to understand what the role is very well to fill in that spot, this requires understanding the client’s needs and what they are looking for in a potential candidate. The second reason is one needs to understand what makes a candidate shine for the role we are in search for. Third, where to find talented individuals is another challenge.\n",
    "\n",
    "The nature of our job requires a lot of human labor and is full of manual operations. Towards automating this process we want to build a better approach that could save us time and finally help us spot potential candidates that could fit the roles we are in search for. Moreover, going beyond that for a specific role we want to fill in we are interested in developing a machine learning powered pipeline that could spot talented individuals, and rank them based on their fitness.\n",
    "\n",
    "We are right now semi-automatically sourcing a few candidates, therefore the sourcing part is not a concern at this time but we expect to first determine best matching candidates based on how fit these candidates are for a given role. We generally make these searches based on some keywords such as “full-stack software engineer”, “engineering manager” or “aspiring human resources” based on the role we are trying to fill in. These keywords might change, and you can expect that specific keywords will be provided to you.\n",
    "\n",
    "Assuming that we were able to list and rank fitting candidates, we then employ a review procedure, as each candidate needs to be reviewed and then determined how good a fit they are through manual inspection. This procedure is done manually and at the end of this manual review, we might choose not the first fitting candidate in the list but maybe the 7th candidate in the list. If that happens, we are interested in being able to re-rank the previous list based on this information. This supervisory signal is going to be supplied by starring the 7th candidate in the list. Starring one candidate actually sets this candidate as an ideal candidate for the given role. Then, we expect the list to be re-ranked each time a candidate is starred.\n",
    "\n",
    "##### **Data Description:**\n",
    "\n",
    "The data comes from our sourcing efforts. We removed any field that could directly reveal personal details and gave a unique identifier for each candidate.\n",
    "\n",
    "##### **Attributes:**\n",
    "**id:** unique identifier for candidate (numeric)\n",
    "\n",
    "**job_title:** job title for candidate (text)\n",
    "\n",
    "**location:** geographical location for candidate (text)\n",
    "\n",
    "**connections:** number of connections candidate has, 500+ means over 500 (text)\n",
    "\n",
    "Output (desired target):\n",
    "**fit:** how fit the candidate is for the role? (numeric, probability between 0-1)\n",
    "\n",
    "**Keywords:** “Aspiring human resources” or “seeking human resources”\n",
    "\n",
    "##### **Goal(s):**\n",
    "\n",
    "Predict how fit the candidate is based on their available information (variable fit)\n",
    "\n",
    "##### **Success Metric(s):**\n",
    "\n",
    "Rank candidates based on a fitness score.\n",
    "\n",
    "Re-rank candidates when a candidate is starred.\n",
    "\n",
    "##### **Bonus(es):**\n",
    "\n",
    "We are interested in a robust algorithm, tell us how your solution works and show us how your ranking gets better with each starring action.\n",
    "\n",
    "How can we filter out candidates which in the first place should not be in this list?\n",
    "\n",
    "Can we determine a cut-off point that would work for other roles without losing high potential candidates?\n",
    "\n",
    "Do you have any ideas that we should explore so that we can even automate this procedure to prevent human bias?"
   ]
  },
  {
   "cell_type": "code",
   "execution_count": 1,
   "metadata": {},
   "outputs": [],
   "source": [
    "import numpy as np\n",
    "import matplotlib.pyplot as plt\n",
    "import pandas as pd\n",
    "import seaborn as sns"
   ]
  },
  {
   "cell_type": "code",
   "execution_count": 2,
   "metadata": {},
   "outputs": [
    {
     "data": {
      "text/html": [
       "<div>\n",
       "<style scoped>\n",
       "    .dataframe tbody tr th:only-of-type {\n",
       "        vertical-align: middle;\n",
       "    }\n",
       "\n",
       "    .dataframe tbody tr th {\n",
       "        vertical-align: top;\n",
       "    }\n",
       "\n",
       "    .dataframe thead th {\n",
       "        text-align: right;\n",
       "    }\n",
       "</style>\n",
       "<table border=\"1\" class=\"dataframe\">\n",
       "  <thead>\n",
       "    <tr style=\"text-align: right;\">\n",
       "      <th></th>\n",
       "      <th>job_title</th>\n",
       "      <th>location</th>\n",
       "      <th>connection</th>\n",
       "      <th>fit</th>\n",
       "    </tr>\n",
       "    <tr>\n",
       "      <th>id</th>\n",
       "      <th></th>\n",
       "      <th></th>\n",
       "      <th></th>\n",
       "      <th></th>\n",
       "    </tr>\n",
       "  </thead>\n",
       "  <tbody>\n",
       "    <tr>\n",
       "      <th>1</th>\n",
       "      <td>2019 C.T. Bauer College of Business Graduate (...</td>\n",
       "      <td>Houston, Texas</td>\n",
       "      <td>85</td>\n",
       "      <td>NaN</td>\n",
       "    </tr>\n",
       "    <tr>\n",
       "      <th>2</th>\n",
       "      <td>Native English Teacher at EPIK (English Progra...</td>\n",
       "      <td>Kanada</td>\n",
       "      <td>500+</td>\n",
       "      <td>NaN</td>\n",
       "    </tr>\n",
       "    <tr>\n",
       "      <th>3</th>\n",
       "      <td>Aspiring Human Resources Professional</td>\n",
       "      <td>Raleigh-Durham, North Carolina Area</td>\n",
       "      <td>44</td>\n",
       "      <td>NaN</td>\n",
       "    </tr>\n",
       "    <tr>\n",
       "      <th>4</th>\n",
       "      <td>People Development Coordinator at Ryan</td>\n",
       "      <td>Denton, Texas</td>\n",
       "      <td>500+</td>\n",
       "      <td>NaN</td>\n",
       "    </tr>\n",
       "    <tr>\n",
       "      <th>5</th>\n",
       "      <td>Advisory Board Member at Celal Bayar University</td>\n",
       "      <td>İzmir, Türkiye</td>\n",
       "      <td>500+</td>\n",
       "      <td>NaN</td>\n",
       "    </tr>\n",
       "  </tbody>\n",
       "</table>\n",
       "</div>"
      ],
      "text/plain": [
       "                                            job_title  \\\n",
       "id                                                      \n",
       "1   2019 C.T. Bauer College of Business Graduate (...   \n",
       "2   Native English Teacher at EPIK (English Progra...   \n",
       "3               Aspiring Human Resources Professional   \n",
       "4              People Development Coordinator at Ryan   \n",
       "5     Advisory Board Member at Celal Bayar University   \n",
       "\n",
       "                               location connection  fit  \n",
       "id                                                       \n",
       "1                        Houston, Texas         85  NaN  \n",
       "2                                Kanada      500+   NaN  \n",
       "3   Raleigh-Durham, North Carolina Area         44  NaN  \n",
       "4                         Denton, Texas      500+   NaN  \n",
       "5                        İzmir, Türkiye      500+   NaN  "
      ]
     },
     "execution_count": 2,
     "metadata": {},
     "output_type": "execute_result"
    }
   ],
   "source": [
    "df = pd.read_excel('potential-talents.xlsx').set_index('id')\n",
    "df.head()"
   ]
  },
  {
   "cell_type": "code",
   "execution_count": 3,
   "metadata": {},
   "outputs": [
    {
     "name": "stdout",
     "output_type": "stream",
     "text": [
      "<class 'pandas.core.frame.DataFrame'>\n",
      "Index: 104 entries, 1 to 104\n",
      "Data columns (total 4 columns):\n",
      " #   Column      Non-Null Count  Dtype  \n",
      "---  ------      --------------  -----  \n",
      " 0   job_title   104 non-null    object \n",
      " 1   location    104 non-null    object \n",
      " 2   connection  104 non-null    object \n",
      " 3   fit         0 non-null      float64\n",
      "dtypes: float64(1), object(3)\n",
      "memory usage: 4.1+ KB\n"
     ]
    }
   ],
   "source": [
    "df.info()"
   ]
  },
  {
   "cell_type": "code",
   "execution_count": 4,
   "metadata": {},
   "outputs": [],
   "source": [
    "df.replace('500+ ', '501', inplace=True)"
   ]
  },
  {
   "cell_type": "code",
   "execution_count": 5,
   "metadata": {},
   "outputs": [],
   "source": [
    "df['connection'] = pd.to_numeric(df['connection'])"
   ]
  },
  {
   "cell_type": "code",
   "execution_count": 6,
   "metadata": {},
   "outputs": [
    {
     "data": {
      "text/plain": [
       "job_title\n",
       "2019 C.T. Bauer College of Business Graduate (Magna Cum Laude) and aspiring Human Resources professional                 7\n",
       "Student at Humber College and Aspiring Human Resources Generalist                                                        7\n",
       "Aspiring Human Resources Professional                                                                                    7\n",
       "People Development Coordinator at Ryan                                                                                   6\n",
       "Native English Teacher at EPIK (English Program in Korea)                                                                5\n",
       "HR Senior Specialist                                                                                                     5\n",
       "Aspiring Human Resources Specialist                                                                                      5\n",
       "Seeking Human Resources HRIS and Generalist Positions                                                                    4\n",
       "Advisory Board Member at Celal Bayar University                                                                          4\n",
       "Human Resources Coordinator at InterContinental Buckhead Atlanta                                                         4\n",
       "Student at Chapman University                                                                                            4\n",
       "SVP, CHRO, Marketing & Communications, CSR Officer | ENGIE | Houston | The Woodlands | Energy | GPHR | SPHR              4\n",
       "Seeking Human Resources Opportunities                                                                                    2\n",
       "Aspiring Human Resources Management student seeking an internship                                                        2\n",
       "Seeking Human Resources Position                                                                                         1\n",
       "Human Resources|\\nConflict Management|\\nPolicies & Procedures|Talent Management|Benefits & Compensation                  1\n",
       "Seeking employment opportunities within Customer Service or Patient Care                                                 1\n",
       "Seeking Human  Resources Opportunities. Open to travel and relocation.                                                   1\n",
       "Senior Human Resources Business Partner at Heil Environmental                                                            1\n",
       "Retired Army National Guard Recruiter, office manager,  seeking a position in Human Resources.                           1\n",
       "Student                                                                                                                  1\n",
       "Student at Indiana University Kokomo - Business Management - \\nRetail Manager at Delphi Hardware and Paint               1\n",
       "RRP Brand Portfolio Executive at JTI (Japan Tobacco International)                                                       1\n",
       "Nortia Staffing is seeking Human Resources, Payroll & Administrative Professionals!!  (408) 709-2621                     1\n",
       "Student at Westfield State University                                                                                    1\n",
       "Liberal Arts Major. Aspiring Human Resources Analyst.                                                                    1\n",
       "Lead Official at Western Illinois University                                                                             1\n",
       "Junior MES Engineer| Information Systems                                                                                 1\n",
       "Information Systems Specialist and Programmer with a love for data and organization.                                     1\n",
       "Human Resources Specialist at Luxottica                                                                                  1\n",
       "Human Resources, Staffing and Recruiting Professional                                                                    1\n",
       "Human Resources professional for the world leader in GIS software                                                        1\n",
       "Always set them up for Success                                                                                           1\n",
       "Aspiring Human Resources Manager | Graduating May 2020 | Seeking an Entry-Level Human Resources Position in St. Louis    1\n",
       "Aspiring Human Resources Manager, seeking internship in Human Resources.                                                 1\n",
       "Aspiring Human Resources Professional | An energetic and Team-Focused Leader                                             1\n",
       "Aspiring Human Resources Professional | Passionate about helping to create an inclusive and engaging work environment    1\n",
       "Bachelor of Science in Biology from Victoria University of Wellington                                                    1\n",
       "Business Intelligence and Analytics at Travelers                                                                         1\n",
       "Business Management Major and Aspiring Human Resources Manager                                                           1\n",
       "Director Human Resources  at EY                                                                                          1\n",
       "Director Of Administration at Excellence Logging                                                                         1\n",
       "Director of Human Resources North America, Groupe Beneteau                                                               1\n",
       "Experienced Retail Manager and aspiring Human Resources Professional                                                     1\n",
       "HR Manager at Endemol Shine North America                                                                                1\n",
       "Human Resources Generalist at Loparex                                                                                    1\n",
       "Human Resources Generalist at Schwan's                                                                                   1\n",
       "Human Resources Generalist at ScottMadden, Inc.                                                                          1\n",
       "Human Resources Management Major                                                                                         1\n",
       "Human Resources Professional                                                                                             1\n",
       "Admissions Representative at Community medical center long beach                                                         1\n",
       "Undergraduate Research Assistant at Styczynski Lab                                                                       1\n",
       "Name: count, dtype: int64"
      ]
     },
     "execution_count": 6,
     "metadata": {},
     "output_type": "execute_result"
    }
   ],
   "source": [
    "df.value_counts('job_title')"
   ]
  },
  {
   "cell_type": "code",
   "execution_count": 7,
   "metadata": {},
   "outputs": [],
   "source": [
    "df.drop_duplicates(inplace=True)"
   ]
  },
  {
   "cell_type": "code",
   "execution_count": 8,
   "metadata": {},
   "outputs": [
    {
     "name": "stdout",
     "output_type": "stream",
     "text": [
      "<class 'pandas.core.frame.DataFrame'>\n",
      "Index: 53 entries, 1 to 104\n",
      "Data columns (total 4 columns):\n",
      " #   Column      Non-Null Count  Dtype  \n",
      "---  ------      --------------  -----  \n",
      " 0   job_title   53 non-null     object \n",
      " 1   location    53 non-null     object \n",
      " 2   connection  53 non-null     int64  \n",
      " 3   fit         0 non-null      float64\n",
      "dtypes: float64(1), int64(1), object(2)\n",
      "memory usage: 2.1+ KB\n"
     ]
    }
   ],
   "source": [
    "df.info()"
   ]
  }
 ],
 "metadata": {
  "kernelspec": {
   "display_name": "Python 3",
   "language": "python",
   "name": "python3"
  },
  "language_info": {
   "codemirror_mode": {
    "name": "ipython",
    "version": 3
   },
   "file_extension": ".py",
   "mimetype": "text/x-python",
   "name": "python",
   "nbconvert_exporter": "python",
   "pygments_lexer": "ipython3",
   "version": "3.9.13"
  }
 },
 "nbformat": 4,
 "nbformat_minor": 2
}
